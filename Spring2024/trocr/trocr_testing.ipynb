{
 "cells": [
  {
   "cell_type": "code",
   "execution_count": 1,
   "id": "ca85ae80-e1b3-4019-b515-3c928379d740",
   "metadata": {},
   "outputs": [],
   "source": [
    "import detr\n",
    "import torch"
   ]
  },
  {
   "cell_type": "code",
   "execution_count": 2,
   "id": "1461938e-0d93-47e0-bb57-64558e259803",
   "metadata": {},
   "outputs": [
    {
     "name": "stdout",
     "output_type": "stream",
     "text": [
      "\n",
      "     active environment : spring-2024-pyt\n",
      "    active env location : /share/pkg.8/academic-ml/spring-2024/install/spring-2024-pyt\n",
      "            shell level : 1\n",
      "       user config file : /usr4/cs505ws/hxie13/.condarc\n",
      " populated config files : /usr4/cs505ws/hxie13/.condarc\n",
      "          conda version : 23.11.0\n",
      "    conda-build version : not installed\n",
      "         python version : 3.10.13.final.0\n",
      "                 solver : libmamba (default)\n",
      "       virtual packages : __archspec=1=cascadelake\n",
      "                          __conda=23.11.0=0\n",
      "                          __cuda=12.4=0\n",
      "                          __glibc=2.28=0\n",
      "                          __linux=4.18.0=0\n",
      "                          __unix=0=0\n",
      "       base environment : /share/pkg.8/miniconda/23.11.0/install  (read only)\n",
      "      conda av data dir : /share/pkg.8/miniconda/23.11.0/install/etc/conda\n",
      "  conda av metadata url : None\n",
      "           channel URLs : https://conda.anaconda.org/conda-forge/linux-64\n",
      "                          https://conda.anaconda.org/conda-forge/noarch\n",
      "                          https://repo.anaconda.com/pkgs/main/linux-64\n",
      "                          https://repo.anaconda.com/pkgs/main/noarch\n",
      "                          https://repo.anaconda.com/pkgs/r/linux-64\n",
      "                          https://repo.anaconda.com/pkgs/r/noarch\n",
      "          package cache : /projectnb/ds549/students/hxie13/.conda/pkgs\n",
      "                          /usr4/cs505ws/hxie13/.conda/pkgs\n",
      "       envs directories : /share/pkg.8/academic-ml/spring-2024/install\n",
      "                          /projectnb/ds549/students/hxie13/.conda/envs\n",
      "                          /usr4/cs505ws/hxie13/.conda/envs\n",
      "                          /share/pkg.8/miniconda/23.11.0/install/envs\n",
      "               platform : linux-64\n",
      "             user-agent : conda/23.11.0 requests/2.31.0 CPython/3.10.13 Linux/4.18.0-513.24.1.el8_9.x86_64 almalinux/8.9 glibc/2.28 solver/libmamba conda-libmamba-solver/23.12.0 libmambapy/1.5.5\n",
      "                UID:GID : 432691:430422\n",
      "             netrc file : None\n",
      "           offline mode : False\n",
      "\n",
      "\n"
     ]
    }
   ],
   "source": [
    "!conda info"
   ]
  },
  {
   "cell_type": "code",
   "execution_count": 3,
   "id": "d633749a-fcfe-4240-a80b-1c31e04786a7",
   "metadata": {},
   "outputs": [
    {
     "name": "stdout",
     "output_type": "stream",
     "text": [
      "cuda\n"
     ]
    }
   ],
   "source": [
    "device = torch.device('cuda' if torch.cuda.is_available() else 'cpu')\n",
    "print(device)"
   ]
  },
  {
   "cell_type": "markdown",
   "id": "ec8798db-85a9-4eaa-8ace-a819c4a4b98f",
   "metadata": {},
   "source": [
    "def run(image_folder: str, output_folder: str, pretrained_model: str = \"spark-ds549/detr-label-detection\", cache_dir: str =\"data/\"):"
   ]
  },
  {
   "cell_type": "code",
   "execution_count": 4,
   "id": "3a02c5a2-3e5b-4eec-bc14-46a68d930f06",
   "metadata": {},
   "outputs": [],
   "source": [
    "# Location of input images\n",
    "inputdir = '/projectnb/sparkgrp/ml-herbarium-grp/ml-herbarium-data/TROCR_Training/goodfiles/'\n",
    "# inputdir = 'evaluation-dataset/handwritten-typed-text-classification/data/Doc_Classification/output/handwritten/' # typed/handwritten\n",
    "# Location of images after label extraction (also input directory to CRAFT)\n",
    "# workdir = inputdir\n",
    "workdir = '/projectnb/sparkgrp/ml-herbarium-grp/summer2023/kabilanm/ml-herbarium/trocr/label-extraction/data/label-extraction-intermediate-files/' # update this to the desired directory on scc\n"
   ]
  },
  {
   "cell_type": "code",
   "execution_count": 5,
   "id": "5cc107b1-d5d5-4f46-a77c-f4901baac8c9",
   "metadata": {},
   "outputs": [
    {
     "name": "stderr",
     "output_type": "stream",
     "text": [
      "INFO:detr-object-detection:Getting spark-ds549/detr-label-detection pretrained model...\n"
     ]
    },
    {
     "ename": "AttributeError",
     "evalue": "'NoneType' object has no attribute 'startswith'",
     "output_type": "error",
     "traceback": [
      "\u001b[0;31m---------------------------------------------------------------------------\u001b[0m",
      "\u001b[0;31mAttributeError\u001b[0m                            Traceback (most recent call last)",
      "Cell \u001b[0;32mIn[5], line 8\u001b[0m\n\u001b[1;32m      2\u001b[0m detr_model \u001b[38;5;241m=\u001b[39m \u001b[38;5;124m'\u001b[39m\u001b[38;5;124mspark-ds549/detr-label-detection\u001b[39m\u001b[38;5;124m'\u001b[39m\n\u001b[1;32m      3\u001b[0m \u001b[38;5;66;03m# detr_model = 'KabilanM/detr-label-detection'\u001b[39;00m\n\u001b[1;32m      4\u001b[0m \u001b[38;5;66;03m# The DETR model returns the bounding boxes of the lables indentified from the images\u001b[39;00m\n\u001b[1;32m      5\u001b[0m \u001b[38;5;66;03m# We will utilize the bounding boxes to rank lables in the downstream task\u001b[39;00m\n\u001b[0;32m----> 8\u001b[0m label_bboxes \u001b[38;5;241m=\u001b[39m \u001b[43mdetr\u001b[49m\u001b[38;5;241;43m.\u001b[39;49m\u001b[43mrun\u001b[49m\u001b[43m(\u001b[49m\u001b[43minputdir\u001b[49m\u001b[43m,\u001b[49m\u001b[43m \u001b[49m\u001b[43mworkdir\u001b[49m\u001b[43m,\u001b[49m\u001b[43m \u001b[49m\u001b[43mdetr_model\u001b[49m\u001b[43m)\u001b[49m\n",
      "File \u001b[0;32m/projectnb/sparkgrp/ml-herbarium-grp/spring2024/trocr/ml-herbarium/trocr/detr.py:95\u001b[0m, in \u001b[0;36mrun\u001b[0;34m(image_folder, output_folder, pretrained_model, cache_dir)\u001b[0m\n\u001b[1;32m     93\u001b[0m \u001b[38;5;66;03m# Moving model to GPU\u001b[39;00m\n\u001b[1;32m     94\u001b[0m \u001b[38;5;28;01mif\u001b[39;00m(torch\u001b[38;5;241m.\u001b[39mcuda\u001b[38;5;241m.\u001b[39mis_available()):\n\u001b[0;32m---> 95\u001b[0m     model \u001b[38;5;241m=\u001b[39m \u001b[43mDetrForObjectDetection\u001b[49m\u001b[38;5;241;43m.\u001b[39;49m\u001b[43mfrom_pretrained\u001b[49m\u001b[43m(\u001b[49m\u001b[43mpretrained_model\u001b[49m\u001b[43m,\u001b[49m\u001b[43m \u001b[49m\u001b[43mcache_dir\u001b[49m\u001b[38;5;241;43m=\u001b[39;49m\u001b[43mcache_dir\u001b[49m\u001b[43m)\u001b[49m\u001b[38;5;241m.\u001b[39mto(\u001b[38;5;124m'\u001b[39m\u001b[38;5;124mcuda\u001b[39m\u001b[38;5;124m'\u001b[39m)\n\u001b[1;32m     96\u001b[0m     device \u001b[38;5;241m=\u001b[39m \u001b[38;5;241m0\u001b[39m \u001b[38;5;66;03m# if GPU is avialable\u001b[39;00m\n\u001b[1;32m     97\u001b[0m \u001b[38;5;28;01melse\u001b[39;00m:\n",
      "File \u001b[0;32m~/.local/lib/python3.11/site-packages/transformers/modeling_utils.py:2276\u001b[0m, in \u001b[0;36mPreTrainedModel.from_pretrained\u001b[0;34m(cls, pretrained_model_name_or_path, *model_args, **kwargs)\u001b[0m\n\u001b[1;32m   2273\u001b[0m     init_contexts\u001b[38;5;241m.\u001b[39mappend(init_empty_weights())\n\u001b[1;32m   2275\u001b[0m \u001b[38;5;28;01mwith\u001b[39;00m ContextManagers(init_contexts):\n\u001b[0;32m-> 2276\u001b[0m     model \u001b[38;5;241m=\u001b[39m \u001b[38;5;28;43mcls\u001b[39;49m\u001b[43m(\u001b[49m\u001b[43mconfig\u001b[49m\u001b[43m,\u001b[49m\u001b[43m \u001b[49m\u001b[38;5;241;43m*\u001b[39;49m\u001b[43mmodel_args\u001b[49m\u001b[43m,\u001b[49m\u001b[43m \u001b[49m\u001b[38;5;241;43m*\u001b[39;49m\u001b[38;5;241;43m*\u001b[39;49m\u001b[43mmodel_kwargs\u001b[49m\u001b[43m)\u001b[49m\n\u001b[1;32m   2278\u001b[0m \u001b[38;5;28;01mif\u001b[39;00m load_in_8bit:\n\u001b[1;32m   2279\u001b[0m     \u001b[38;5;28;01mfrom\u001b[39;00m \u001b[38;5;21;01m.\u001b[39;00m\u001b[38;5;21;01mutils\u001b[39;00m\u001b[38;5;21;01m.\u001b[39;00m\u001b[38;5;21;01mbitsandbytes\u001b[39;00m \u001b[38;5;28;01mimport\u001b[39;00m get_keys_to_not_convert, replace_8bit_linear\n",
      "File \u001b[0;32m~/.local/lib/python3.11/site-packages/transformers/models/detr/modeling_detr.py:1364\u001b[0m, in \u001b[0;36mDetrForObjectDetection.__init__\u001b[0;34m(self, config)\u001b[0m\n\u001b[1;32m   1361\u001b[0m \u001b[38;5;28msuper\u001b[39m()\u001b[38;5;241m.\u001b[39m\u001b[38;5;21m__init__\u001b[39m(config)\n\u001b[1;32m   1363\u001b[0m \u001b[38;5;66;03m# DETR encoder-decoder model\u001b[39;00m\n\u001b[0;32m-> 1364\u001b[0m \u001b[38;5;28mself\u001b[39m\u001b[38;5;241m.\u001b[39mmodel \u001b[38;5;241m=\u001b[39m \u001b[43mDetrModel\u001b[49m\u001b[43m(\u001b[49m\u001b[43mconfig\u001b[49m\u001b[43m)\u001b[49m\n\u001b[1;32m   1366\u001b[0m \u001b[38;5;66;03m# Object detection heads\u001b[39;00m\n\u001b[1;32m   1367\u001b[0m \u001b[38;5;28mself\u001b[39m\u001b[38;5;241m.\u001b[39mclass_labels_classifier \u001b[38;5;241m=\u001b[39m nn\u001b[38;5;241m.\u001b[39mLinear(\n\u001b[1;32m   1368\u001b[0m     config\u001b[38;5;241m.\u001b[39md_model, config\u001b[38;5;241m.\u001b[39mnum_labels \u001b[38;5;241m+\u001b[39m \u001b[38;5;241m1\u001b[39m\n\u001b[1;32m   1369\u001b[0m )  \u001b[38;5;66;03m# We add one for the \"no object\" class\u001b[39;00m\n",
      "File \u001b[0;32m~/.local/lib/python3.11/site-packages/transformers/models/detr/modeling_detr.py:1194\u001b[0m, in \u001b[0;36mDetrModel.__init__\u001b[0;34m(self, config)\u001b[0m\n\u001b[1;32m   1191\u001b[0m \u001b[38;5;28msuper\u001b[39m()\u001b[38;5;241m.\u001b[39m\u001b[38;5;21m__init__\u001b[39m(config)\n\u001b[1;32m   1193\u001b[0m \u001b[38;5;66;03m# Create backbone + positional encoding\u001b[39;00m\n\u001b[0;32m-> 1194\u001b[0m backbone \u001b[38;5;241m=\u001b[39m \u001b[43mDetrTimmConvEncoder\u001b[49m\u001b[43m(\u001b[49m\n\u001b[1;32m   1195\u001b[0m \u001b[43m    \u001b[49m\u001b[43mconfig\u001b[49m\u001b[38;5;241;43m.\u001b[39;49m\u001b[43mbackbone\u001b[49m\u001b[43m,\u001b[49m\u001b[43m \u001b[49m\u001b[43mconfig\u001b[49m\u001b[38;5;241;43m.\u001b[39;49m\u001b[43mdilation\u001b[49m\u001b[43m,\u001b[49m\u001b[43m \u001b[49m\u001b[43mconfig\u001b[49m\u001b[38;5;241;43m.\u001b[39;49m\u001b[43muse_pretrained_backbone\u001b[49m\u001b[43m,\u001b[49m\u001b[43m \u001b[49m\u001b[43mconfig\u001b[49m\u001b[38;5;241;43m.\u001b[39;49m\u001b[43mnum_channels\u001b[49m\n\u001b[1;32m   1196\u001b[0m \u001b[43m\u001b[49m\u001b[43m)\u001b[49m\n\u001b[1;32m   1197\u001b[0m position_embeddings \u001b[38;5;241m=\u001b[39m build_position_encoding(config)\n\u001b[1;32m   1198\u001b[0m \u001b[38;5;28mself\u001b[39m\u001b[38;5;241m.\u001b[39mbackbone \u001b[38;5;241m=\u001b[39m DetrConvModel(backbone, position_embeddings)\n",
      "File \u001b[0;32m~/.local/lib/python3.11/site-packages/transformers/models/detr/modeling_detr.py:340\u001b[0m, in \u001b[0;36mDetrTimmConvEncoder.__init__\u001b[0;34m(self, name, dilation, use_pretrained_backbone, num_channels)\u001b[0m\n\u001b[1;32m    336\u001b[0m     kwargs[\u001b[38;5;124m\"\u001b[39m\u001b[38;5;124moutput_stride\u001b[39m\u001b[38;5;124m\"\u001b[39m] \u001b[38;5;241m=\u001b[39m \u001b[38;5;241m16\u001b[39m\n\u001b[1;32m    338\u001b[0m requires_backends(\u001b[38;5;28mself\u001b[39m, [\u001b[38;5;124m\"\u001b[39m\u001b[38;5;124mtimm\u001b[39m\u001b[38;5;124m\"\u001b[39m])\n\u001b[0;32m--> 340\u001b[0m backbone \u001b[38;5;241m=\u001b[39m \u001b[43mcreate_model\u001b[49m\u001b[43m(\u001b[49m\n\u001b[1;32m    341\u001b[0m \u001b[43m    \u001b[49m\u001b[43mname\u001b[49m\u001b[43m,\u001b[49m\n\u001b[1;32m    342\u001b[0m \u001b[43m    \u001b[49m\u001b[43mpretrained\u001b[49m\u001b[38;5;241;43m=\u001b[39;49m\u001b[43muse_pretrained_backbone\u001b[49m\u001b[43m,\u001b[49m\n\u001b[1;32m    343\u001b[0m \u001b[43m    \u001b[49m\u001b[43mfeatures_only\u001b[49m\u001b[38;5;241;43m=\u001b[39;49m\u001b[38;5;28;43;01mTrue\u001b[39;49;00m\u001b[43m,\u001b[49m\n\u001b[1;32m    344\u001b[0m \u001b[43m    \u001b[49m\u001b[43mout_indices\u001b[49m\u001b[38;5;241;43m=\u001b[39;49m\u001b[43m(\u001b[49m\u001b[38;5;241;43m1\u001b[39;49m\u001b[43m,\u001b[49m\u001b[43m \u001b[49m\u001b[38;5;241;43m2\u001b[39;49m\u001b[43m,\u001b[49m\u001b[43m \u001b[49m\u001b[38;5;241;43m3\u001b[39;49m\u001b[43m,\u001b[49m\u001b[43m \u001b[49m\u001b[38;5;241;43m4\u001b[39;49m\u001b[43m)\u001b[49m\u001b[43m,\u001b[49m\n\u001b[1;32m    345\u001b[0m \u001b[43m    \u001b[49m\u001b[43min_chans\u001b[49m\u001b[38;5;241;43m=\u001b[39;49m\u001b[43mnum_channels\u001b[49m\u001b[43m,\u001b[49m\n\u001b[1;32m    346\u001b[0m \u001b[43m    \u001b[49m\u001b[38;5;241;43m*\u001b[39;49m\u001b[38;5;241;43m*\u001b[39;49m\u001b[43mkwargs\u001b[49m\u001b[43m,\u001b[49m\n\u001b[1;32m    347\u001b[0m \u001b[43m\u001b[49m\u001b[43m)\u001b[49m\n\u001b[1;32m    348\u001b[0m \u001b[38;5;66;03m# replace batch norm by frozen batch norm\u001b[39;00m\n\u001b[1;32m    349\u001b[0m \u001b[38;5;28;01mwith\u001b[39;00m torch\u001b[38;5;241m.\u001b[39mno_grad():\n",
      "File \u001b[0;32m~/.local/lib/python3.11/site-packages/timm/models/_factory.py:97\u001b[0m, in \u001b[0;36mcreate_model\u001b[0;34m(model_name, pretrained, pretrained_cfg, pretrained_cfg_overlay, checkpoint_path, scriptable, exportable, no_jit, **kwargs)\u001b[0m\n\u001b[1;32m     92\u001b[0m \u001b[38;5;66;03m# Parameters that aren't supported by all models or are intended to only override model defaults if set\u001b[39;00m\n\u001b[1;32m     93\u001b[0m \u001b[38;5;66;03m# should default to None in command line args/cfg. Remove them if they are present and not set so that\u001b[39;00m\n\u001b[1;32m     94\u001b[0m \u001b[38;5;66;03m# non-supporting models don't break and default args remain in effect.\u001b[39;00m\n\u001b[1;32m     95\u001b[0m kwargs \u001b[38;5;241m=\u001b[39m {k: v \u001b[38;5;28;01mfor\u001b[39;00m k, v \u001b[38;5;129;01min\u001b[39;00m kwargs\u001b[38;5;241m.\u001b[39mitems() \u001b[38;5;28;01mif\u001b[39;00m v \u001b[38;5;129;01mis\u001b[39;00m \u001b[38;5;129;01mnot\u001b[39;00m \u001b[38;5;28;01mNone\u001b[39;00m}\n\u001b[0;32m---> 97\u001b[0m model_source, model_name \u001b[38;5;241m=\u001b[39m \u001b[43mparse_model_name\u001b[49m\u001b[43m(\u001b[49m\u001b[43mmodel_name\u001b[49m\u001b[43m)\u001b[49m\n\u001b[1;32m     98\u001b[0m \u001b[38;5;28;01mif\u001b[39;00m model_source \u001b[38;5;241m==\u001b[39m \u001b[38;5;124m'\u001b[39m\u001b[38;5;124mhf-hub\u001b[39m\u001b[38;5;124m'\u001b[39m:\n\u001b[1;32m     99\u001b[0m     \u001b[38;5;28;01massert\u001b[39;00m \u001b[38;5;129;01mnot\u001b[39;00m pretrained_cfg, \u001b[38;5;124m'\u001b[39m\u001b[38;5;124mpretrained_cfg should not be set when sourcing model from Hugging Face Hub.\u001b[39m\u001b[38;5;124m'\u001b[39m\n",
      "File \u001b[0;32m~/.local/lib/python3.11/site-packages/timm/models/_factory.py:16\u001b[0m, in \u001b[0;36mparse_model_name\u001b[0;34m(model_name)\u001b[0m\n\u001b[1;32m     15\u001b[0m \u001b[38;5;28;01mdef\u001b[39;00m \u001b[38;5;21mparse_model_name\u001b[39m(model_name: \u001b[38;5;28mstr\u001b[39m):\n\u001b[0;32m---> 16\u001b[0m     \u001b[38;5;28;01mif\u001b[39;00m \u001b[43mmodel_name\u001b[49m\u001b[38;5;241;43m.\u001b[39;49m\u001b[43mstartswith\u001b[49m(\u001b[38;5;124m'\u001b[39m\u001b[38;5;124mhf_hub\u001b[39m\u001b[38;5;124m'\u001b[39m):\n\u001b[1;32m     17\u001b[0m         \u001b[38;5;66;03m# NOTE for backwards compat, deprecate hf_hub use\u001b[39;00m\n\u001b[1;32m     18\u001b[0m         model_name \u001b[38;5;241m=\u001b[39m model_name\u001b[38;5;241m.\u001b[39mreplace(\u001b[38;5;124m'\u001b[39m\u001b[38;5;124mhf_hub\u001b[39m\u001b[38;5;124m'\u001b[39m, \u001b[38;5;124m'\u001b[39m\u001b[38;5;124mhf-hub\u001b[39m\u001b[38;5;124m'\u001b[39m)\n\u001b[1;32m     19\u001b[0m     parsed \u001b[38;5;241m=\u001b[39m urlsplit(model_name)\n",
      "\u001b[0;31mAttributeError\u001b[0m: 'NoneType' object has no attribute 'startswith'"
     ]
    }
   ],
   "source": [
    "# Use the DETR for inference (adopted from Freddie (https://github.com/freddiev4/comp-vision-scripts/blob/main/object-detection/detr.py))\n",
    "detr_model = 'spark-ds549/detr-label-detection'\n",
    "# detr_model = 'KabilanM/detr-label-detection'\n",
    "# The DETR model returns the bounding boxes of the lables indentified from the images\n",
    "# We will utilize the bounding boxes to rank lables in the downstream task\n",
    "\n",
    "\n",
    "label_bboxes = detr.run(inputdir, workdir, detr_model)"
   ]
  },
  {
   "cell_type": "code",
   "execution_count": null,
   "id": "fc8df717-9f64-4770-abad-96759c3c0cf3",
   "metadata": {},
   "outputs": [],
   "source": []
  }
 ],
 "metadata": {
  "kernelspec": {
   "display_name": "Python [conda env:spring-2024-pyt] *",
   "language": "python",
   "name": "conda-env-spring-2024-pyt-py"
  },
  "language_info": {
   "codemirror_mode": {
    "name": "ipython",
    "version": 3
   },
   "file_extension": ".py",
   "mimetype": "text/x-python",
   "name": "python",
   "nbconvert_exporter": "python",
   "pygments_lexer": "ipython3",
   "version": "3.11.6"
  }
 },
 "nbformat": 4,
 "nbformat_minor": 5
}
